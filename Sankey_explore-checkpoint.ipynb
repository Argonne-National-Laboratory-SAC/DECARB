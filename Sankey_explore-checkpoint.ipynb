{
 "cells": [
  {
   "cell_type": "code",
   "execution_count": 9,
   "id": "f3523a93",
   "metadata": {},
   "outputs": [],
   "source": [
    "## importing libraries\n",
    "import plotly.graph_objects as go\n",
    "import urllib, json\n",
    "import pandas as pd\n",
    "import random\n",
    "from itertools import chain\n",
    "import os\n",
    "\n",
    "if not os.path.exists('images'):\n",
    "    os.mkdir('images')\n",
    "## Set Values:::\n",
    "# Note: the capitalization conventions have to be the same as the column names in Energy Demand\n",
    "\n",
    "YearOfInterest = 2050\n",
    "Facet_1 = 'Fuel Pool'\n",
    "Facet_2 = 'Sector'\n",
    "Facet_3 = 'Subsector'\n",
    "Facet_4 = 'End Use Application'\n",
    "Case = 'Reference case' # 'Reference case' or 'Mitigation'\n",
    "\n",
    "### Reading Energy Demand data file, choosing year and case\n",
    "def change_index (floatt):\n",
    "    return int(floatt)\n",
    "def add_space (strang):\n",
    "    return str(strang) + \" \"\n",
    "def remove_space(string):\n",
    "    return \"\".join([char for char in string if char != \" \"])\n",
    "def count_space(string1):\n",
    "    count = 0\n",
    "    for c in string1:\n",
    "        if c == \" \":\n",
    "            count += 1\n",
    "    return count\n",
    "def value_facet_classifacation(string, facets):\n",
    "    for i in range(len(facets)):\n",
    "        if string in [x for x in list(df[facets[i]].unique()) if str(x) != 'nan']:\n",
    "            return i\n",
    "        elif \"\".join([char for char in string if char != \" \"]) == '-':\n",
    "            return count_space(string)\n",
    "\n",
    "df_original = pd.read_excel('C:\\\\Users\\\\spatange\\\\Documents\\\\Repos\\\\DECARB\\\\Data\\\\4_dashboard\\\\US Decarbonization Tool - test.xlsx', sheet_name='Energy Demand')\n",
    "df_original = df_original.iloc[3:]\n",
    "df_original.columns = ['index', 'Case', 'Mitigation Case', 'Sector', 'Subsector', 'End Use Application', 'Energy carrier', \"Energy carrier type\", 'Basis','Fuel Pool','Year','Unit', 'Value']\n",
    "df_original['index'] = df_original['index'].apply(change_index)\n",
    "df_original = df_original.set_index('index')\n",
    "df_original.drop(df_original[(df_original['Year'] != YearOfInterest)].index, inplace=True)\n",
    "#df_original.drop(df_original[(df_original['Case'] != Case)].index, inplace=True)\n",
    "#df.drop(df[(df['End Use Application'] == '-')].index, inplace=True)\n",
    "df_original = df_original.reset_index(drop = True)\n",
    "df = df_original.copy()\n",
    "\n",
    "def create_sankey(Facets, YearOfInterest, remove_null):\n",
    "    \n",
    "    ## droping rows that have '-' in the first or second facet\n",
    "    if remove_null == True:\n",
    "        df.drop(df[(df[Facets[0]] == '-')].index, inplace=True)\n",
    "        df.drop(df[(df[Facets[1]] == '-')].index, inplace=True)\n",
    "\n",
    "    \n",
    "    ## initializing source, target, value dataframe\n",
    "    df_temps = []\n",
    "    df_labels = pd.DataFrame()\n",
    "    total_values = [0.0] * len(Facets)\n",
    "        \n",
    "    ## generating sankey plot dataframe\n",
    "    for index_fac in range(len(Facets)-1):\n",
    "        \n",
    "        ## Initializing \"source\" and \"target\" dataframe using two facets at a time\n",
    "        df_temp = df.groupby([Facets[index_fac],Facets[index_fac+1]])['Value'].count().reset_index()\n",
    "        \n",
    "        if remove_null == True:\n",
    "            df_temp.drop(df_temp[(df_temp[Facets[index_fac]] == '-')].index, inplace=True)\n",
    "            df_temp.drop(df_temp[(df_temp[Facets[index_fac+1]] == '-')].index, inplace=True)\n",
    "        else:\n",
    "            for index, row in df_temp.iterrows():\n",
    "                if df_temp.at[index, Facets[index_fac]] == '-':\n",
    "                    df_temp.at[index, Facets[index_fac]] += ' ' * index_fac\n",
    "                if df_temp.at[index, Facets[index_fac+1]] == '-':\n",
    "                    df_temp.at[index, Facets[index_fac+1]] += ' ' * (index_fac+1)\n",
    "        \n",
    "        \n",
    "        df_temp.columns = ['source','target','value']\n",
    "        \n",
    "        ## Generating \"value\" data \n",
    "        for index, row in df_temp.iterrows():\n",
    "            df_temp1 = df.drop(df[(df[Facets[index_fac]] != row['source'].rstrip())].index)\n",
    "            df_temp1.drop(df_temp1[(df_temp1[Facets[index_fac+1]] != row['target'].rstrip())].index, inplace = True)\n",
    "            df_temp.at[index, 'value'] = df_temp1['Value'].sum() \n",
    "            total_values[index_fac+1] = df_temp['value'].sum()    \n",
    "            \n",
    "        df_temps.append(df_temp)\n",
    "\n",
    "    total_values[0] = total_values[1]\n",
    "\n",
    "        ## detour\n",
    "    if remove_null == True:\n",
    "\n",
    "        if len(Facets) == 4:\n",
    "            df_temp_edit = df.groupby([Facets[1],Facets[2],Facets[3]])['Value'].count().reset_index()\n",
    "            df_temp_edit.drop(df_temp_edit[(df_temp_edit[Facets[2]] != '-')].index, inplace=True)\n",
    "            df_temp_edit.drop(df_temp_edit[(df_temp_edit[Facets[3]] == '-')].index, inplace=True)\n",
    "            df_temp_edit.drop(Facets[2], axis=1, inplace=True)\n",
    "            df_temp_edit.columns = ['source','target','value']\n",
    "            for index, row in df_temp_edit.iterrows():\n",
    "                df_temp1 = pd.DataFrame()\n",
    "                df_temp1 = df.drop(df[(df[Facets[1]] != row['source'])].index)\n",
    "                df_temp1.drop(df_temp1[(df_temp1[Facets[3]] != row['target'])].index, inplace = True)\n",
    "                df_temp_edit.at[index, 'value'] = df_temp1['Value'].sum()\n",
    "            total_values[3] += df_temp_edit['value'].sum()\n",
    "            df_temps.append(df_temp_edit)\n",
    "\n",
    "    df_labels = pd.concat([df_labels, df_temps[0].groupby('source')['value'].sum().reset_index()], axis=0)\n",
    "    for i in range(len(df_temps)):\n",
    "        df_label = df_temps[i].groupby('target')['value'].sum().reset_index()\n",
    "        df_labels = pd.concat([df_labels, df_label], axis=0)\n",
    "    \n",
    "    links = pd.concat(df_temps, axis=0)\n",
    "    unique_source_target = list(pd.unique(links[['source','target']].values.ravel(\"K\")))\n",
    "    ust_copy = unique_source_target.copy()\n",
    "                                \n",
    "    mapping_dict = {k: v for v, k in enumerate(unique_source_target)}\n",
    "    links['source'] = links[\"source\"].map(mapping_dict)\n",
    "    links['target'] = links[\"target\"].map(mapping_dict)\n",
    "    links_dict = links.to_dict(orient='list')\n",
    "    \n",
    "    ### adding percents to the labels \n",
    "    for index, row in df_labels.iterrows():\n",
    "        if index == 0:\n",
    "            if row['source'] in unique_source_target:\n",
    "                index = unique_source_target.index(row['source'])\n",
    "                if index < len(unique_source_target) :\n",
    "                    unique_source_target[index] += \" \" + str(round((row['value'] / total_values[value_facet_classifacation(row['source'],Facets)])*100,1)) + \"%\"\n",
    "        if row['target'] in unique_source_target:\n",
    "            index = unique_source_target.index(row['target'])\n",
    "            if index < len(unique_source_target) :\n",
    "                unique_source_target[index] += \" \" + str(round((row['value'] / total_values[value_facet_classifacation(row['target'],Facets)])*100,1)) + \"%\"\n",
    "\n",
    "    # generating color data\n",
    "    random_color_node = []\n",
    "    random_col = []\n",
    "    for _ in range(len(unique_source_target)):\n",
    "        random_color_node.append(\"rgba(\"+str(random.randint(1,255))+\",\"+str(random.randint(1,255))+\",\"+str(random.randint(1,255))+\",0.35)\")\n",
    "    mapping_color_node_dict = {k: v for v, k in enumerate(random_color_node)}\n",
    "    random_col.append(pd.concat([links['source'], links['target']]).tolist())\n",
    "    random_col = list(chain.from_iterable(random_col))\n",
    "    flipped_dict = {value: key for key, value in mapping_color_node_dict.items()}\n",
    "    random_color_target = [flipped_dict.get(item) for item in random_col]\n",
    "    \n",
    "    #generating x-positional data\n",
    "    xlist = []\n",
    "    ylist = []\n",
    "    temp = []\n",
    "    for element in ust_copy:\n",
    "        xlist.append(float(value_facet_classifacation(element, Facets)) / float((len(Facets) - 1)))\n",
    "    for value in sorted(list(set(xlist)), key=float):\n",
    "        temp.append(xlist.count(value))\n",
    "    for value in temp:\n",
    "        for i in range(0,value):\n",
    "            ylist.append(float(i / value))\n",
    "    ### creating Sankey diagram data\n",
    "    fig = go.Figure(data=[go.Sankey(\n",
    "        arrangement = 'snap',\n",
    "        domain = dict( x = [0,1], y = [0,1]),\n",
    "        node = dict(\n",
    "            pad = 15, \n",
    "            thickness = 20, \n",
    "            line = dict(color = 'black',width = 0.5), \n",
    "            label = unique_source_target,\n",
    "            x = xlist,\n",
    "            y = [0.01]*len(xlist),\n",
    "            color = random_color_node\n",
    "        ), \n",
    "        link = dict(\n",
    "        source = links_dict['source'],\n",
    "        target = links_dict['target'],\n",
    "        value = links_dict['value'],\n",
    "        color = random_color_target\n",
    "        ) \n",
    "    )])\n",
    "    \n",
    "    ## showing sankey diagram\n",
    "    title = str(YearOfInterest) + \" :\"\n",
    "    for i in range(len(Facets)):\n",
    "        if i != (len(Facets) - 1):\n",
    "            title = title + ' ' + Facets[i] + ' | '\n",
    "        else:\n",
    "            title = title + ' ' + Facets[i] \n",
    "        \n",
    "    fig.update_layout(title_text = title , font_size = 8, width = 1118, height = 1000)\n",
    "    fig.show()\n",
    "    fig.write_image(\"C:\\Sagar\\SankeyPlotPictures\\Sankey.png\")\n"
   ]
  },
  {
   "cell_type": "code",
   "execution_count": 10,
   "id": "776de9cd",
   "metadata": {
    "scrolled": false
   },
   "outputs": [
    {
     "data": {
      "application/vnd.plotly.v1+json": {
       "config": {
        "plotlyServerURL": "https://plot.ly"
       },
       "data": [
        {
         "arrangement": "snap",
         "domain": {
          "x": [
           0,
           1
          ],
          "y": [
           0,
           1
          ]
         },
         "link": {
          "color": [
           "rgba(166,17,111,0.35)",
           "rgba(166,17,111,0.35)",
           "rgba(35,253,29,0.35)",
           "rgba(35,253,29,0.35)",
           "rgba(72,74,70,0.35)",
           "rgba(226,122,207,0.35)",
           "rgba(226,122,207,0.35)",
           "rgba(226,122,207,0.35)",
           "rgba(226,122,207,0.35)",
           "rgba(226,122,207,0.35)",
           "rgba(170,155,183,0.35)",
           "rgba(170,155,183,0.35)",
           "rgba(170,155,183,0.35)",
           "rgba(170,155,183,0.35)",
           "rgba(170,155,183,0.35)",
           "rgba(43,81,121,0.35)",
           "rgba(43,81,121,0.35)",
           "rgba(43,81,121,0.35)",
           "rgba(51,213,134,0.35)",
           "rgba(51,213,134,0.35)",
           "rgba(51,213,134,0.35)",
           "rgba(21,253,7,0.35)",
           "rgba(170,155,134,0.35)",
           "rgba(224,228,130,0.35)",
           "rgba(224,228,130,0.35)",
           "rgba(224,228,130,0.35)",
           "rgba(224,228,130,0.35)",
           "rgba(230,56,41,0.35)",
           "rgba(230,56,41,0.35)",
           "rgba(230,56,41,0.35)",
           "rgba(230,56,41,0.35)",
           "rgba(230,56,41,0.35)",
           "rgba(43,226,35,0.35)",
           "rgba(43,226,35,0.35)",
           "rgba(43,226,35,0.35)",
           "rgba(43,226,35,0.35)",
           "rgba(214,201,167,0.35)",
           "rgba(214,201,167,0.35)",
           "rgba(16,112,167,0.35)",
           "rgba(16,112,167,0.35)",
           "rgba(16,112,167,0.35)",
           "rgba(16,112,167,0.35)",
           "rgba(16,112,167,0.35)",
           "rgba(16,112,167,0.35)",
           "rgba(16,112,167,0.35)",
           "rgba(16,112,167,0.35)",
           "rgba(16,112,167,0.35)",
           "rgba(16,112,167,0.35)",
           "rgba(16,112,167,0.35)",
           "rgba(134,194,249,0.35)",
           "rgba(134,194,249,0.35)",
           "rgba(134,194,249,0.35)",
           "rgba(134,194,249,0.35)",
           "rgba(134,194,249,0.35)",
           "rgba(134,194,249,0.35)",
           "rgba(218,228,93,0.35)",
           "rgba(227,22,19,0.35)",
           "rgba(227,22,19,0.35)",
           "rgba(95,57,67,0.35)",
           "rgba(95,57,67,0.35)",
           "rgba(95,57,67,0.35)",
           "rgba(44,138,237,0.35)",
           "rgba(44,138,237,0.35)",
           "rgba(44,138,237,0.35)",
           "rgba(44,138,237,0.35)",
           "rgba(44,138,237,0.35)",
           "rgba(142,116,242,0.35)",
           "rgba(230,88,178,0.35)",
           "rgba(230,88,178,0.35)",
           "rgba(230,88,178,0.35)",
           "rgba(150,11,116,0.35)",
           "rgba(150,11,116,0.35)",
           "rgba(150,11,116,0.35)",
           "rgba(150,11,116,0.35)",
           "rgba(150,11,116,0.35)",
           "rgba(150,11,116,0.35)",
           "rgba(68,42,24,0.35)",
           "rgba(68,42,24,0.35)",
           "rgba(183,143,45,0.35)",
           "rgba(183,143,45,0.35)",
           "rgba(183,143,45,0.35)",
           "rgba(245,177,239,0.35)",
           "rgba(245,177,239,0.35)",
           "rgba(245,177,239,0.35)",
           "rgba(245,177,239,0.35)",
           "rgba(126,219,119,0.35)",
           "rgba(126,219,119,0.35)",
           "rgba(126,219,119,0.35)",
           "rgba(91,247,249,0.35)",
           "rgba(153,52,83,0.35)",
           "rgba(153,52,83,0.35)",
           "rgba(153,52,83,0.35)",
           "rgba(153,52,83,0.35)",
           "rgba(153,52,83,0.35)",
           "rgba(153,52,83,0.35)",
           "rgba(153,52,83,0.35)",
           "rgba(153,52,83,0.35)",
           "rgba(35,188,76,0.35)",
           "rgba(35,188,76,0.35)",
           "rgba(35,188,76,0.35)",
           "rgba(35,188,76,0.35)",
           "rgba(35,188,76,0.35)",
           "rgba(35,188,76,0.35)",
           "rgba(35,188,76,0.35)",
           "rgba(153,52,83,0.35)",
           "rgba(35,188,76,0.35)",
           "rgba(91,247,249,0.35)",
           "rgba(16,112,167,0.35)",
           "rgba(16,112,167,0.35)",
           "rgba(91,247,249,0.35)",
           "rgba(153,52,83,0.35)",
           "rgba(16,112,167,0.35)",
           "rgba(35,188,76,0.35)",
           "rgba(134,194,249,0.35)",
           "rgba(91,247,249,0.35)",
           "rgba(153,52,83,0.35)",
           "rgba(16,112,167,0.35)",
           "rgba(35,188,76,0.35)",
           "rgba(134,194,249,0.35)",
           "rgba(91,247,249,0.35)",
           "rgba(16,112,167,0.35)",
           "rgba(134,194,249,0.35)",
           "rgba(91,247,249,0.35)",
           "rgba(16,112,167,0.35)",
           "rgba(134,194,249,0.35)",
           "rgba(134,194,249,0.35)",
           "rgba(134,194,249,0.35)",
           "rgba(91,247,249,0.35)",
           "rgba(16,112,167,0.35)",
           "rgba(35,188,76,0.35)",
           "rgba(134,194,249,0.35)",
           "rgba(91,247,249,0.35)",
           "rgba(153,52,83,0.35)",
           "rgba(16,112,167,0.35)",
           "rgba(35,188,76,0.35)",
           "rgba(134,194,249,0.35)",
           "rgba(91,247,249,0.35)",
           "rgba(153,52,83,0.35)",
           "rgba(16,112,167,0.35)",
           "rgba(134,194,249,0.35)",
           "rgba(91,247,249,0.35)",
           "rgba(16,112,167,0.35)",
           "rgba(196,134,73,0.35)",
           "rgba(227,22,19,0.35)",
           "rgba(224,18,139,0.35)",
           "rgba(35,198,192,0.35)",
           "rgba(63,229,86,0.35)",
           "rgba(167,200,65,0.35)",
           "rgba(44,138,237,0.35)",
           "rgba(230,88,178,0.35)",
           "rgba(183,143,45,0.35)",
           "rgba(47,92,225,0.35)",
           "rgba(126,219,119,0.35)",
           "rgba(218,228,93,0.35)",
           "rgba(95,57,67,0.35)",
           "rgba(142,116,242,0.35)",
           "rgba(150,11,116,0.35)",
           "rgba(68,42,24,0.35)",
           "rgba(245,177,239,0.35)",
           "rgba(61,198,202,0.35)",
           "rgba(70,19,214,0.35)",
           "rgba(151,161,97,0.35)",
           "rgba(100,247,54,0.35)",
           "rgba(195,157,64,0.35)",
           "rgba(17,138,88,0.35)",
           "rgba(226,18,251,0.35)",
           "rgba(55,138,174,0.35)",
           "rgba(115,33,156,0.35)",
           "rgba(251,39,217,0.35)",
           "rgba(126,134,136,0.35)",
           "rgba(171,162,229,0.35)",
           "rgba(118,205,87,0.35)",
           "rgba(193,202,98,0.35)",
           "rgba(155,20,189,0.35)",
           "rgba(120,176,95,0.35)",
           "rgba(121,234,9,0.35)",
           "rgba(94,142,232,0.35)",
           "rgba(98,237,179,0.35)",
           "rgba(171,213,242,0.35)",
           "rgba(140,10,91,0.35)",
           "rgba(177,38,229,0.35)",
           "rgba(6,253,53,0.35)",
           "rgba(95,211,40,0.35)",
           "rgba(159,71,12,0.35)",
           "rgba(245,141,23,0.35)",
           "rgba(166,168,58,0.35)",
           "rgba(125,94,46,0.35)",
           "rgba(234,73,77,0.35)",
           "rgba(69,215,35,0.35)",
           "rgba(70,19,214,0.35)",
           "rgba(71,115,218,0.35)",
           "rgba(151,161,97,0.35)",
           "rgba(90,118,170,0.35)",
           "rgba(33,80,211,0.35)",
           "rgba(127,94,106,0.35)",
           "rgba(32,53,225,0.35)",
           "rgba(29,148,16,0.35)",
           "rgba(136,39,102,0.35)",
           "rgba(128,40,42,0.35)",
           "rgba(188,227,21,0.35)",
           "rgba(71,41,176,0.35)",
           "rgba(33,80,211,0.35)",
           "rgba(127,94,106,0.35)",
           "rgba(32,53,225,0.35)",
           "rgba(29,148,16,0.35)",
           "rgba(128,40,42,0.35)",
           "rgba(208,169,30,0.35)",
           "rgba(71,41,176,0.35)"
          ],
          "source": [
           0,
           0,
           1,
           1,
           2,
           3,
           3,
           3,
           3,
           3,
           4,
           4,
           4,
           4,
           4,
           5,
           5,
           5,
           6,
           6,
           6,
           7,
           8,
           9,
           9,
           9,
           9,
           10,
           10,
           10,
           10,
           10,
           11,
           11,
           11,
           11,
           12,
           12,
           13,
           13,
           13,
           13,
           13,
           13,
           13,
           13,
           13,
           13,
           13,
           14,
           14,
           14,
           14,
           14,
           14,
           15,
           16,
           16,
           17,
           17,
           17,
           18,
           18,
           18,
           18,
           18,
           19,
           20,
           20,
           20,
           21,
           21,
           21,
           21,
           21,
           21,
           22,
           22,
           23,
           23,
           23,
           24,
           24,
           24,
           24,
           25,
           25,
           25,
           26,
           27,
           27,
           27,
           27,
           27,
           27,
           27,
           27,
           28,
           28,
           28,
           28,
           28,
           28,
           28
          ],
          "target": [
           27,
           28,
           26,
           13,
           13,
           26,
           27,
           13,
           28,
           14,
           26,
           27,
           13,
           28,
           14,
           26,
           13,
           14,
           26,
           13,
           14,
           14,
           14,
           26,
           13,
           28,
           14,
           26,
           27,
           13,
           28,
           14,
           26,
           27,
           13,
           14,
           26,
           13,
           29,
           16,
           30,
           31,
           32,
           33,
           18,
           20,
           23,
           34,
           25,
           15,
           17,
           19,
           21,
           22,
           24,
           35,
           36,
           37,
           38,
           39,
           40,
           41,
           42,
           43,
           44,
           45,
           46,
           47,
           48,
           49,
           50,
           51,
           52,
           53,
           54,
           55,
           56,
           57,
           58,
           59,
           60,
           61,
           62,
           63,
           64,
           36,
           65,
           37,
           66,
           67,
           68,
           69,
           70,
           71,
           72,
           73,
           74,
           67,
           68,
           69,
           70,
           72,
           75,
           74
          ],
          "value": [
           116642334.69228192,
           297410194.12487435,
           0,
           625496255.0016462,
           451820942.4185053,
           434346262.3373126,
           227069829.66952977,
           599499789.1293172,
           219780586.69384187,
           1529396785.9693918,
           58381114.091104984,
           5448984000,
           3429328263.45127,
           6816997000,
           7364916203.592999,
           30274.29381839984,
           23767110.69991335,
           397326657.55663127,
           123671419.80862153,
           169695926.6715299,
           319399043.9296227,
           5256897.795641311,
           4165294741.234378,
           91739898.72566178,
           55877115.29620939,
           376751033.69065857,
           13119064.527354792,
           111470615.82644628,
           3233539234.1597795,
           11894623363.139915,
           4412974949.494949,
           833113171.7210748,
           35319206.31275984,
           609944195.3949473,
           5699785623.066945,
           114442808.4,
           230544266,
           1192982982.5232892,
           196014909.6434906,
           8618378661.746635,
           299846974.9998968,
           708230644.1208967,
           115569655.62809917,
           826260008.6402779,
           1160603337.5954647,
           5841592730.954541,
           2304321918.007188,
           1127534481.729219,
           3781984391.0172625,
           3844867534.997494,
           1038711077.5954454,
           412769111.8137501,
           8271069643.558199,
           743397876.5258034,
           498245431.53653526,
           3844867534.997494,
           5438281779.332945,
           3180096882.4136868,
           74276845.54011938,
           798043587.1154345,
           166390644.93989146,
           188780282.4144887,
           113372681.28343658,
           295217078.46999687,
           166572123.06385306,
           396661172.363689,
           412769111.8137501,
           2170584442.561022,
           3226465523.201599,
           444542765.1919192,
           544035354.1168416,
           2091544426.3056262,
           30381660.81145586,
           5451015522.455637,
           73754398.93574706,
           80338280.93289469,
           114442808.4,
           628955068.1258035,
           1499871184.7323987,
           303595744.98248136,
           500854988.2923078,
           26523082.6598486,
           438233749.3611093,
           11418002.51557723,
           22070597,
           163772667.15777433,
           0,
           1041766219.5134571,
           1085503057.3957255,
           863493000,
           728606781.4508724,
           2121321840.5497153,
           463004000,
           116642334.69228192,
           653934000,
           231259000,
           668895106.4781673,
           203634000,
           1519223230.486685,
           4675695802.974332,
           202056000,
           411431000,
           146237776.85950413,
           1801081823.7604876
          ]
         },
         "node": {
          "color": [
           "rgba(166,17,111,0.35)",
           "rgba(35,253,29,0.35)",
           "rgba(72,74,70,0.35)",
           "rgba(226,122,207,0.35)",
           "rgba(170,155,183,0.35)",
           "rgba(43,81,121,0.35)",
           "rgba(51,213,134,0.35)",
           "rgba(21,253,7,0.35)",
           "rgba(170,155,134,0.35)",
           "rgba(224,228,130,0.35)",
           "rgba(230,56,41,0.35)",
           "rgba(43,226,35,0.35)",
           "rgba(214,201,167,0.35)",
           "rgba(16,112,167,0.35)",
           "rgba(134,194,249,0.35)",
           "rgba(218,228,93,0.35)",
           "rgba(227,22,19,0.35)",
           "rgba(95,57,67,0.35)",
           "rgba(44,138,237,0.35)",
           "rgba(142,116,242,0.35)",
           "rgba(230,88,178,0.35)",
           "rgba(150,11,116,0.35)",
           "rgba(68,42,24,0.35)",
           "rgba(183,143,45,0.35)",
           "rgba(245,177,239,0.35)",
           "rgba(126,219,119,0.35)",
           "rgba(91,247,249,0.35)",
           "rgba(153,52,83,0.35)",
           "rgba(35,188,76,0.35)",
           "rgba(196,134,73,0.35)",
           "rgba(224,18,139,0.35)",
           "rgba(35,198,192,0.35)",
           "rgba(63,229,86,0.35)",
           "rgba(167,200,65,0.35)",
           "rgba(47,92,225,0.35)",
           "rgba(61,198,202,0.35)",
           "rgba(70,19,214,0.35)",
           "rgba(151,161,97,0.35)",
           "rgba(100,247,54,0.35)",
           "rgba(195,157,64,0.35)",
           "rgba(17,138,88,0.35)",
           "rgba(226,18,251,0.35)",
           "rgba(55,138,174,0.35)",
           "rgba(115,33,156,0.35)",
           "rgba(251,39,217,0.35)",
           "rgba(126,134,136,0.35)",
           "rgba(171,162,229,0.35)",
           "rgba(118,205,87,0.35)",
           "rgba(193,202,98,0.35)",
           "rgba(155,20,189,0.35)",
           "rgba(120,176,95,0.35)",
           "rgba(121,234,9,0.35)",
           "rgba(94,142,232,0.35)",
           "rgba(98,237,179,0.35)",
           "rgba(171,213,242,0.35)",
           "rgba(140,10,91,0.35)",
           "rgba(177,38,229,0.35)",
           "rgba(6,253,53,0.35)",
           "rgba(95,211,40,0.35)",
           "rgba(159,71,12,0.35)",
           "rgba(245,141,23,0.35)",
           "rgba(166,168,58,0.35)",
           "rgba(125,94,46,0.35)",
           "rgba(234,73,77,0.35)",
           "rgba(69,215,35,0.35)",
           "rgba(71,115,218,0.35)",
           "rgba(90,118,170,0.35)",
           "rgba(33,80,211,0.35)",
           "rgba(127,94,106,0.35)",
           "rgba(32,53,225,0.35)",
           "rgba(29,148,16,0.35)",
           "rgba(136,39,102,0.35)",
           "rgba(128,40,42,0.35)",
           "rgba(188,227,21,0.35)",
           "rgba(71,41,176,0.35)",
           "rgba(208,169,30,0.35)"
          ],
          "label": [
           "Biomass 0.7%",
           "Coal",
           "Coke",
           "Diesel",
           "Electricity",
           "Fuel Oil",
           "Gasoline",
           "Hydrogen",
           "Jet",
           "LPG",
           "Natural Gas",
           "Other Petroleum",
           "Other Renewables",
           "Industrial 39.1%",
           "Transportation 23.9%",
           "Aviation 9.7%",
           "Bulk Chemical Industry 21.7%",
           "Marine 2.6%",
           "Metal Based Durables Industry 2.9%",
           "Military 1.0%",
           "Nonmanufacturing Sector 14.7%",
           "On Road 20.8%",
           "Other 1.9%",
           "Other Manufacturing Industry 5.8%",
           "Rail 1.3%",
           "Refining Industry 9.5%",
           "Agriculture 1.8%",
           "Commercial 15.6%",
           "Residential 19.6%",
           "Aluminum Industry 0.5%",
           "Cement and Lime Industry 0.8%",
           "Food Industry 1.8%",
           "Glass Industry 0.3%",
           "Iron and Steel Industry 2.1%",
           "Paper Industry 2.8%",
           "Air Transportation 7.7%",
           "Feedstocks 11.2%",
           "Heat and Power 8.5%",
           "Domestic Shipping 0.1%",
           "International Shipping 1.6%",
           "Recreational Boats 0.3%",
           "Computers Consumption 0.4%",
           "Electrical Equipment Consumption 0.2%",
           "Fabricated Metal Products Consumption 0.6%",
           "Machinery Consumption 0.3%",
           "Transportation Equipment Consumption 0.8%",
           "Military Use 0.8%",
           "Construction 4.4%",
           "Mining 6.5%",
           "Natural Gas Liquefaction for Export 0.9%",
           "Commercial Light Trucks 1.1%",
           "Freight Trucks 4.2%",
           "Intercity Bus 0.1%",
           "Light-Duty Vehicle 10.9%",
           "School Bus 0.1%",
           "Transit Bus 0.2%",
           "Lubricants 0.2%",
           "Pipeline Fuel Natural Gas 1.3%",
           "Balance of Manufacturing Consumption 3.0%",
           "Plastics Consumption 0.6%",
           "Wood Products Consumption 1.0%",
           "Commuter Rail 0.1%",
           "Freight Rail 0.9%",
           "Intercity Rail 0.0%",
           "Transit Rail 0.0%",
           "Gas-to-Liquids Heat 0.0%",
           "On farm energy use 2.2%",
           "Computers and Electronics 2.1%",
           "Cooling 4.5%",
           "Heating 13.6%",
           "Lighting 1.3%",
           "Marketed Renewables 0.2%",
           "Refrigeration 2.1%",
           "Ventilation 0.5%",
           "Water Heating 5.0%",
           "Washing/Drying 0.3%"
          ],
          "line": {
           "color": "black",
           "width": 0.5
          },
          "pad": 15,
          "thickness": 20,
          "x": [
           0,
           0,
           0,
           0,
           0,
           0,
           0,
           0,
           0,
           0,
           0,
           0,
           0,
           0.3333333333333333,
           0.3333333333333333,
           0.6666666666666666,
           0.6666666666666666,
           0.6666666666666666,
           0.6666666666666666,
           0.6666666666666666,
           0.6666666666666666,
           0.6666666666666666,
           0.6666666666666666,
           0.6666666666666666,
           0.6666666666666666,
           0.6666666666666666,
           0.3333333333333333,
           0.3333333333333333,
           0.3333333333333333,
           0.6666666666666666,
           0.6666666666666666,
           0.6666666666666666,
           0.6666666666666666,
           0.6666666666666666,
           0.6666666666666666,
           1,
           1,
           1,
           1,
           1,
           1,
           1,
           1,
           1,
           1,
           1,
           1,
           1,
           1,
           1,
           1,
           1,
           1,
           1,
           1,
           1,
           1,
           1,
           1,
           1,
           1,
           1,
           1,
           1,
           1,
           1,
           1,
           1,
           1,
           1,
           1,
           1,
           1,
           1,
           1,
           1
          ],
          "y": [
           0.01,
           0.01,
           0.01,
           0.01,
           0.01,
           0.01,
           0.01,
           0.01,
           0.01,
           0.01,
           0.01,
           0.01,
           0.01,
           0.01,
           0.01,
           0.01,
           0.01,
           0.01,
           0.01,
           0.01,
           0.01,
           0.01,
           0.01,
           0.01,
           0.01,
           0.01,
           0.01,
           0.01,
           0.01,
           0.01,
           0.01,
           0.01,
           0.01,
           0.01,
           0.01,
           0.01,
           0.01,
           0.01,
           0.01,
           0.01,
           0.01,
           0.01,
           0.01,
           0.01,
           0.01,
           0.01,
           0.01,
           0.01,
           0.01,
           0.01,
           0.01,
           0.01,
           0.01,
           0.01,
           0.01,
           0.01,
           0.01,
           0.01,
           0.01,
           0.01,
           0.01,
           0.01,
           0.01,
           0.01,
           0.01,
           0.01,
           0.01,
           0.01,
           0.01,
           0.01,
           0.01,
           0.01,
           0.01,
           0.01,
           0.01,
           0.01
          ]
         },
         "type": "sankey"
        }
       ],
       "layout": {
        "font": {
         "size": 8
        },
        "height": 1000,
        "template": {
         "data": {
          "bar": [
           {
            "error_x": {
             "color": "#2a3f5f"
            },
            "error_y": {
             "color": "#2a3f5f"
            },
            "marker": {
             "line": {
              "color": "#E5ECF6",
              "width": 0.5
             },
             "pattern": {
              "fillmode": "overlay",
              "size": 10,
              "solidity": 0.2
             }
            },
            "type": "bar"
           }
          ],
          "barpolar": [
           {
            "marker": {
             "line": {
              "color": "#E5ECF6",
              "width": 0.5
             },
             "pattern": {
              "fillmode": "overlay",
              "size": 10,
              "solidity": 0.2
             }
            },
            "type": "barpolar"
           }
          ],
          "carpet": [
           {
            "aaxis": {
             "endlinecolor": "#2a3f5f",
             "gridcolor": "white",
             "linecolor": "white",
             "minorgridcolor": "white",
             "startlinecolor": "#2a3f5f"
            },
            "baxis": {
             "endlinecolor": "#2a3f5f",
             "gridcolor": "white",
             "linecolor": "white",
             "minorgridcolor": "white",
             "startlinecolor": "#2a3f5f"
            },
            "type": "carpet"
           }
          ],
          "choropleth": [
           {
            "colorbar": {
             "outlinewidth": 0,
             "ticks": ""
            },
            "type": "choropleth"
           }
          ],
          "contour": [
           {
            "colorbar": {
             "outlinewidth": 0,
             "ticks": ""
            },
            "colorscale": [
             [
              0,
              "#0d0887"
             ],
             [
              0.1111111111111111,
              "#46039f"
             ],
             [
              0.2222222222222222,
              "#7201a8"
             ],
             [
              0.3333333333333333,
              "#9c179e"
             ],
             [
              0.4444444444444444,
              "#bd3786"
             ],
             [
              0.5555555555555556,
              "#d8576b"
             ],
             [
              0.6666666666666666,
              "#ed7953"
             ],
             [
              0.7777777777777778,
              "#fb9f3a"
             ],
             [
              0.8888888888888888,
              "#fdca26"
             ],
             [
              1,
              "#f0f921"
             ]
            ],
            "type": "contour"
           }
          ],
          "contourcarpet": [
           {
            "colorbar": {
             "outlinewidth": 0,
             "ticks": ""
            },
            "type": "contourcarpet"
           }
          ],
          "heatmap": [
           {
            "colorbar": {
             "outlinewidth": 0,
             "ticks": ""
            },
            "colorscale": [
             [
              0,
              "#0d0887"
             ],
             [
              0.1111111111111111,
              "#46039f"
             ],
             [
              0.2222222222222222,
              "#7201a8"
             ],
             [
              0.3333333333333333,
              "#9c179e"
             ],
             [
              0.4444444444444444,
              "#bd3786"
             ],
             [
              0.5555555555555556,
              "#d8576b"
             ],
             [
              0.6666666666666666,
              "#ed7953"
             ],
             [
              0.7777777777777778,
              "#fb9f3a"
             ],
             [
              0.8888888888888888,
              "#fdca26"
             ],
             [
              1,
              "#f0f921"
             ]
            ],
            "type": "heatmap"
           }
          ],
          "heatmapgl": [
           {
            "colorbar": {
             "outlinewidth": 0,
             "ticks": ""
            },
            "colorscale": [
             [
              0,
              "#0d0887"
             ],
             [
              0.1111111111111111,
              "#46039f"
             ],
             [
              0.2222222222222222,
              "#7201a8"
             ],
             [
              0.3333333333333333,
              "#9c179e"
             ],
             [
              0.4444444444444444,
              "#bd3786"
             ],
             [
              0.5555555555555556,
              "#d8576b"
             ],
             [
              0.6666666666666666,
              "#ed7953"
             ],
             [
              0.7777777777777778,
              "#fb9f3a"
             ],
             [
              0.8888888888888888,
              "#fdca26"
             ],
             [
              1,
              "#f0f921"
             ]
            ],
            "type": "heatmapgl"
           }
          ],
          "histogram": [
           {
            "marker": {
             "pattern": {
              "fillmode": "overlay",
              "size": 10,
              "solidity": 0.2
             }
            },
            "type": "histogram"
           }
          ],
          "histogram2d": [
           {
            "colorbar": {
             "outlinewidth": 0,
             "ticks": ""
            },
            "colorscale": [
             [
              0,
              "#0d0887"
             ],
             [
              0.1111111111111111,
              "#46039f"
             ],
             [
              0.2222222222222222,
              "#7201a8"
             ],
             [
              0.3333333333333333,
              "#9c179e"
             ],
             [
              0.4444444444444444,
              "#bd3786"
             ],
             [
              0.5555555555555556,
              "#d8576b"
             ],
             [
              0.6666666666666666,
              "#ed7953"
             ],
             [
              0.7777777777777778,
              "#fb9f3a"
             ],
             [
              0.8888888888888888,
              "#fdca26"
             ],
             [
              1,
              "#f0f921"
             ]
            ],
            "type": "histogram2d"
           }
          ],
          "histogram2dcontour": [
           {
            "colorbar": {
             "outlinewidth": 0,
             "ticks": ""
            },
            "colorscale": [
             [
              0,
              "#0d0887"
             ],
             [
              0.1111111111111111,
              "#46039f"
             ],
             [
              0.2222222222222222,
              "#7201a8"
             ],
             [
              0.3333333333333333,
              "#9c179e"
             ],
             [
              0.4444444444444444,
              "#bd3786"
             ],
             [
              0.5555555555555556,
              "#d8576b"
             ],
             [
              0.6666666666666666,
              "#ed7953"
             ],
             [
              0.7777777777777778,
              "#fb9f3a"
             ],
             [
              0.8888888888888888,
              "#fdca26"
             ],
             [
              1,
              "#f0f921"
             ]
            ],
            "type": "histogram2dcontour"
           }
          ],
          "mesh3d": [
           {
            "colorbar": {
             "outlinewidth": 0,
             "ticks": ""
            },
            "type": "mesh3d"
           }
          ],
          "parcoords": [
           {
            "line": {
             "colorbar": {
              "outlinewidth": 0,
              "ticks": ""
             }
            },
            "type": "parcoords"
           }
          ],
          "pie": [
           {
            "automargin": true,
            "type": "pie"
           }
          ],
          "scatter": [
           {
            "fillpattern": {
             "fillmode": "overlay",
             "size": 10,
             "solidity": 0.2
            },
            "type": "scatter"
           }
          ],
          "scatter3d": [
           {
            "line": {
             "colorbar": {
              "outlinewidth": 0,
              "ticks": ""
             }
            },
            "marker": {
             "colorbar": {
              "outlinewidth": 0,
              "ticks": ""
             }
            },
            "type": "scatter3d"
           }
          ],
          "scattercarpet": [
           {
            "marker": {
             "colorbar": {
              "outlinewidth": 0,
              "ticks": ""
             }
            },
            "type": "scattercarpet"
           }
          ],
          "scattergeo": [
           {
            "marker": {
             "colorbar": {
              "outlinewidth": 0,
              "ticks": ""
             }
            },
            "type": "scattergeo"
           }
          ],
          "scattergl": [
           {
            "marker": {
             "colorbar": {
              "outlinewidth": 0,
              "ticks": ""
             }
            },
            "type": "scattergl"
           }
          ],
          "scattermapbox": [
           {
            "marker": {
             "colorbar": {
              "outlinewidth": 0,
              "ticks": ""
             }
            },
            "type": "scattermapbox"
           }
          ],
          "scatterpolar": [
           {
            "marker": {
             "colorbar": {
              "outlinewidth": 0,
              "ticks": ""
             }
            },
            "type": "scatterpolar"
           }
          ],
          "scatterpolargl": [
           {
            "marker": {
             "colorbar": {
              "outlinewidth": 0,
              "ticks": ""
             }
            },
            "type": "scatterpolargl"
           }
          ],
          "scatterternary": [
           {
            "marker": {
             "colorbar": {
              "outlinewidth": 0,
              "ticks": ""
             }
            },
            "type": "scatterternary"
           }
          ],
          "surface": [
           {
            "colorbar": {
             "outlinewidth": 0,
             "ticks": ""
            },
            "colorscale": [
             [
              0,
              "#0d0887"
             ],
             [
              0.1111111111111111,
              "#46039f"
             ],
             [
              0.2222222222222222,
              "#7201a8"
             ],
             [
              0.3333333333333333,
              "#9c179e"
             ],
             [
              0.4444444444444444,
              "#bd3786"
             ],
             [
              0.5555555555555556,
              "#d8576b"
             ],
             [
              0.6666666666666666,
              "#ed7953"
             ],
             [
              0.7777777777777778,
              "#fb9f3a"
             ],
             [
              0.8888888888888888,
              "#fdca26"
             ],
             [
              1,
              "#f0f921"
             ]
            ],
            "type": "surface"
           }
          ],
          "table": [
           {
            "cells": {
             "fill": {
              "color": "#EBF0F8"
             },
             "line": {
              "color": "white"
             }
            },
            "header": {
             "fill": {
              "color": "#C8D4E3"
             },
             "line": {
              "color": "white"
             }
            },
            "type": "table"
           }
          ]
         },
         "layout": {
          "annotationdefaults": {
           "arrowcolor": "#2a3f5f",
           "arrowhead": 0,
           "arrowwidth": 1
          },
          "autotypenumbers": "strict",
          "coloraxis": {
           "colorbar": {
            "outlinewidth": 0,
            "ticks": ""
           }
          },
          "colorscale": {
           "diverging": [
            [
             0,
             "#8e0152"
            ],
            [
             0.1,
             "#c51b7d"
            ],
            [
             0.2,
             "#de77ae"
            ],
            [
             0.3,
             "#f1b6da"
            ],
            [
             0.4,
             "#fde0ef"
            ],
            [
             0.5,
             "#f7f7f7"
            ],
            [
             0.6,
             "#e6f5d0"
            ],
            [
             0.7,
             "#b8e186"
            ],
            [
             0.8,
             "#7fbc41"
            ],
            [
             0.9,
             "#4d9221"
            ],
            [
             1,
             "#276419"
            ]
           ],
           "sequential": [
            [
             0,
             "#0d0887"
            ],
            [
             0.1111111111111111,
             "#46039f"
            ],
            [
             0.2222222222222222,
             "#7201a8"
            ],
            [
             0.3333333333333333,
             "#9c179e"
            ],
            [
             0.4444444444444444,
             "#bd3786"
            ],
            [
             0.5555555555555556,
             "#d8576b"
            ],
            [
             0.6666666666666666,
             "#ed7953"
            ],
            [
             0.7777777777777778,
             "#fb9f3a"
            ],
            [
             0.8888888888888888,
             "#fdca26"
            ],
            [
             1,
             "#f0f921"
            ]
           ],
           "sequentialminus": [
            [
             0,
             "#0d0887"
            ],
            [
             0.1111111111111111,
             "#46039f"
            ],
            [
             0.2222222222222222,
             "#7201a8"
            ],
            [
             0.3333333333333333,
             "#9c179e"
            ],
            [
             0.4444444444444444,
             "#bd3786"
            ],
            [
             0.5555555555555556,
             "#d8576b"
            ],
            [
             0.6666666666666666,
             "#ed7953"
            ],
            [
             0.7777777777777778,
             "#fb9f3a"
            ],
            [
             0.8888888888888888,
             "#fdca26"
            ],
            [
             1,
             "#f0f921"
            ]
           ]
          },
          "colorway": [
           "#636efa",
           "#EF553B",
           "#00cc96",
           "#ab63fa",
           "#FFA15A",
           "#19d3f3",
           "#FF6692",
           "#B6E880",
           "#FF97FF",
           "#FECB52"
          ],
          "font": {
           "color": "#2a3f5f"
          },
          "geo": {
           "bgcolor": "white",
           "lakecolor": "white",
           "landcolor": "#E5ECF6",
           "showlakes": true,
           "showland": true,
           "subunitcolor": "white"
          },
          "hoverlabel": {
           "align": "left"
          },
          "hovermode": "closest",
          "mapbox": {
           "style": "light"
          },
          "paper_bgcolor": "white",
          "plot_bgcolor": "#E5ECF6",
          "polar": {
           "angularaxis": {
            "gridcolor": "white",
            "linecolor": "white",
            "ticks": ""
           },
           "bgcolor": "#E5ECF6",
           "radialaxis": {
            "gridcolor": "white",
            "linecolor": "white",
            "ticks": ""
           }
          },
          "scene": {
           "xaxis": {
            "backgroundcolor": "#E5ECF6",
            "gridcolor": "white",
            "gridwidth": 2,
            "linecolor": "white",
            "showbackground": true,
            "ticks": "",
            "zerolinecolor": "white"
           },
           "yaxis": {
            "backgroundcolor": "#E5ECF6",
            "gridcolor": "white",
            "gridwidth": 2,
            "linecolor": "white",
            "showbackground": true,
            "ticks": "",
            "zerolinecolor": "white"
           },
           "zaxis": {
            "backgroundcolor": "#E5ECF6",
            "gridcolor": "white",
            "gridwidth": 2,
            "linecolor": "white",
            "showbackground": true,
            "ticks": "",
            "zerolinecolor": "white"
           }
          },
          "shapedefaults": {
           "line": {
            "color": "#2a3f5f"
           }
          },
          "ternary": {
           "aaxis": {
            "gridcolor": "white",
            "linecolor": "white",
            "ticks": ""
           },
           "baxis": {
            "gridcolor": "white",
            "linecolor": "white",
            "ticks": ""
           },
           "bgcolor": "#E5ECF6",
           "caxis": {
            "gridcolor": "white",
            "linecolor": "white",
            "ticks": ""
           }
          },
          "title": {
           "x": 0.05
          },
          "xaxis": {
           "automargin": true,
           "gridcolor": "white",
           "linecolor": "white",
           "ticks": "",
           "title": {
            "standoff": 15
           },
           "zerolinecolor": "white",
           "zerolinewidth": 2
          },
          "yaxis": {
           "automargin": true,
           "gridcolor": "white",
           "linecolor": "white",
           "ticks": "",
           "title": {
            "standoff": 15
           },
           "zerolinecolor": "white",
           "zerolinewidth": 2
          }
         }
        },
        "title": {
         "text": "2050 : Fuel Pool |  Sector |  Subsector |  End Use Application"
        },
        "width": 1118
       }
      },
      "text/html": [
       "<div>                            <div id=\"a1f115b0-8629-477c-8320-2043bc2482e8\" class=\"plotly-graph-div\" style=\"height:1000px; width:1118px;\"></div>            <script type=\"text/javascript\">                require([\"plotly\"], function(Plotly) {                    window.PLOTLYENV=window.PLOTLYENV || {};                                    if (document.getElementById(\"a1f115b0-8629-477c-8320-2043bc2482e8\")) {                    Plotly.newPlot(                        \"a1f115b0-8629-477c-8320-2043bc2482e8\",                        [{\"arrangement\":\"snap\",\"domain\":{\"x\":[0,1],\"y\":[0,1]},\"link\":{\"color\":[\"rgba(166,17,111,0.35)\",\"rgba(166,17,111,0.35)\",\"rgba(35,253,29,0.35)\",\"rgba(35,253,29,0.35)\",\"rgba(72,74,70,0.35)\",\"rgba(226,122,207,0.35)\",\"rgba(226,122,207,0.35)\",\"rgba(226,122,207,0.35)\",\"rgba(226,122,207,0.35)\",\"rgba(226,122,207,0.35)\",\"rgba(170,155,183,0.35)\",\"rgba(170,155,183,0.35)\",\"rgba(170,155,183,0.35)\",\"rgba(170,155,183,0.35)\",\"rgba(170,155,183,0.35)\",\"rgba(43,81,121,0.35)\",\"rgba(43,81,121,0.35)\",\"rgba(43,81,121,0.35)\",\"rgba(51,213,134,0.35)\",\"rgba(51,213,134,0.35)\",\"rgba(51,213,134,0.35)\",\"rgba(21,253,7,0.35)\",\"rgba(170,155,134,0.35)\",\"rgba(224,228,130,0.35)\",\"rgba(224,228,130,0.35)\",\"rgba(224,228,130,0.35)\",\"rgba(224,228,130,0.35)\",\"rgba(230,56,41,0.35)\",\"rgba(230,56,41,0.35)\",\"rgba(230,56,41,0.35)\",\"rgba(230,56,41,0.35)\",\"rgba(230,56,41,0.35)\",\"rgba(43,226,35,0.35)\",\"rgba(43,226,35,0.35)\",\"rgba(43,226,35,0.35)\",\"rgba(43,226,35,0.35)\",\"rgba(214,201,167,0.35)\",\"rgba(214,201,167,0.35)\",\"rgba(16,112,167,0.35)\",\"rgba(16,112,167,0.35)\",\"rgba(16,112,167,0.35)\",\"rgba(16,112,167,0.35)\",\"rgba(16,112,167,0.35)\",\"rgba(16,112,167,0.35)\",\"rgba(16,112,167,0.35)\",\"rgba(16,112,167,0.35)\",\"rgba(16,112,167,0.35)\",\"rgba(16,112,167,0.35)\",\"rgba(16,112,167,0.35)\",\"rgba(134,194,249,0.35)\",\"rgba(134,194,249,0.35)\",\"rgba(134,194,249,0.35)\",\"rgba(134,194,249,0.35)\",\"rgba(134,194,249,0.35)\",\"rgba(134,194,249,0.35)\",\"rgba(218,228,93,0.35)\",\"rgba(227,22,19,0.35)\",\"rgba(227,22,19,0.35)\",\"rgba(95,57,67,0.35)\",\"rgba(95,57,67,0.35)\",\"rgba(95,57,67,0.35)\",\"rgba(44,138,237,0.35)\",\"rgba(44,138,237,0.35)\",\"rgba(44,138,237,0.35)\",\"rgba(44,138,237,0.35)\",\"rgba(44,138,237,0.35)\",\"rgba(142,116,242,0.35)\",\"rgba(230,88,178,0.35)\",\"rgba(230,88,178,0.35)\",\"rgba(230,88,178,0.35)\",\"rgba(150,11,116,0.35)\",\"rgba(150,11,116,0.35)\",\"rgba(150,11,116,0.35)\",\"rgba(150,11,116,0.35)\",\"rgba(150,11,116,0.35)\",\"rgba(150,11,116,0.35)\",\"rgba(68,42,24,0.35)\",\"rgba(68,42,24,0.35)\",\"rgba(183,143,45,0.35)\",\"rgba(183,143,45,0.35)\",\"rgba(183,143,45,0.35)\",\"rgba(245,177,239,0.35)\",\"rgba(245,177,239,0.35)\",\"rgba(245,177,239,0.35)\",\"rgba(245,177,239,0.35)\",\"rgba(126,219,119,0.35)\",\"rgba(126,219,119,0.35)\",\"rgba(126,219,119,0.35)\",\"rgba(91,247,249,0.35)\",\"rgba(153,52,83,0.35)\",\"rgba(153,52,83,0.35)\",\"rgba(153,52,83,0.35)\",\"rgba(153,52,83,0.35)\",\"rgba(153,52,83,0.35)\",\"rgba(153,52,83,0.35)\",\"rgba(153,52,83,0.35)\",\"rgba(153,52,83,0.35)\",\"rgba(35,188,76,0.35)\",\"rgba(35,188,76,0.35)\",\"rgba(35,188,76,0.35)\",\"rgba(35,188,76,0.35)\",\"rgba(35,188,76,0.35)\",\"rgba(35,188,76,0.35)\",\"rgba(35,188,76,0.35)\",\"rgba(153,52,83,0.35)\",\"rgba(35,188,76,0.35)\",\"rgba(91,247,249,0.35)\",\"rgba(16,112,167,0.35)\",\"rgba(16,112,167,0.35)\",\"rgba(91,247,249,0.35)\",\"rgba(153,52,83,0.35)\",\"rgba(16,112,167,0.35)\",\"rgba(35,188,76,0.35)\",\"rgba(134,194,249,0.35)\",\"rgba(91,247,249,0.35)\",\"rgba(153,52,83,0.35)\",\"rgba(16,112,167,0.35)\",\"rgba(35,188,76,0.35)\",\"rgba(134,194,249,0.35)\",\"rgba(91,247,249,0.35)\",\"rgba(16,112,167,0.35)\",\"rgba(134,194,249,0.35)\",\"rgba(91,247,249,0.35)\",\"rgba(16,112,167,0.35)\",\"rgba(134,194,249,0.35)\",\"rgba(134,194,249,0.35)\",\"rgba(134,194,249,0.35)\",\"rgba(91,247,249,0.35)\",\"rgba(16,112,167,0.35)\",\"rgba(35,188,76,0.35)\",\"rgba(134,194,249,0.35)\",\"rgba(91,247,249,0.35)\",\"rgba(153,52,83,0.35)\",\"rgba(16,112,167,0.35)\",\"rgba(35,188,76,0.35)\",\"rgba(134,194,249,0.35)\",\"rgba(91,247,249,0.35)\",\"rgba(153,52,83,0.35)\",\"rgba(16,112,167,0.35)\",\"rgba(134,194,249,0.35)\",\"rgba(91,247,249,0.35)\",\"rgba(16,112,167,0.35)\",\"rgba(196,134,73,0.35)\",\"rgba(227,22,19,0.35)\",\"rgba(224,18,139,0.35)\",\"rgba(35,198,192,0.35)\",\"rgba(63,229,86,0.35)\",\"rgba(167,200,65,0.35)\",\"rgba(44,138,237,0.35)\",\"rgba(230,88,178,0.35)\",\"rgba(183,143,45,0.35)\",\"rgba(47,92,225,0.35)\",\"rgba(126,219,119,0.35)\",\"rgba(218,228,93,0.35)\",\"rgba(95,57,67,0.35)\",\"rgba(142,116,242,0.35)\",\"rgba(150,11,116,0.35)\",\"rgba(68,42,24,0.35)\",\"rgba(245,177,239,0.35)\",\"rgba(61,198,202,0.35)\",\"rgba(70,19,214,0.35)\",\"rgba(151,161,97,0.35)\",\"rgba(100,247,54,0.35)\",\"rgba(195,157,64,0.35)\",\"rgba(17,138,88,0.35)\",\"rgba(226,18,251,0.35)\",\"rgba(55,138,174,0.35)\",\"rgba(115,33,156,0.35)\",\"rgba(251,39,217,0.35)\",\"rgba(126,134,136,0.35)\",\"rgba(171,162,229,0.35)\",\"rgba(118,205,87,0.35)\",\"rgba(193,202,98,0.35)\",\"rgba(155,20,189,0.35)\",\"rgba(120,176,95,0.35)\",\"rgba(121,234,9,0.35)\",\"rgba(94,142,232,0.35)\",\"rgba(98,237,179,0.35)\",\"rgba(171,213,242,0.35)\",\"rgba(140,10,91,0.35)\",\"rgba(177,38,229,0.35)\",\"rgba(6,253,53,0.35)\",\"rgba(95,211,40,0.35)\",\"rgba(159,71,12,0.35)\",\"rgba(245,141,23,0.35)\",\"rgba(166,168,58,0.35)\",\"rgba(125,94,46,0.35)\",\"rgba(234,73,77,0.35)\",\"rgba(69,215,35,0.35)\",\"rgba(70,19,214,0.35)\",\"rgba(71,115,218,0.35)\",\"rgba(151,161,97,0.35)\",\"rgba(90,118,170,0.35)\",\"rgba(33,80,211,0.35)\",\"rgba(127,94,106,0.35)\",\"rgba(32,53,225,0.35)\",\"rgba(29,148,16,0.35)\",\"rgba(136,39,102,0.35)\",\"rgba(128,40,42,0.35)\",\"rgba(188,227,21,0.35)\",\"rgba(71,41,176,0.35)\",\"rgba(33,80,211,0.35)\",\"rgba(127,94,106,0.35)\",\"rgba(32,53,225,0.35)\",\"rgba(29,148,16,0.35)\",\"rgba(128,40,42,0.35)\",\"rgba(208,169,30,0.35)\",\"rgba(71,41,176,0.35)\"],\"source\":[0,0,1,1,2,3,3,3,3,3,4,4,4,4,4,5,5,5,6,6,6,7,8,9,9,9,9,10,10,10,10,10,11,11,11,11,12,12,13,13,13,13,13,13,13,13,13,13,13,14,14,14,14,14,14,15,16,16,17,17,17,18,18,18,18,18,19,20,20,20,21,21,21,21,21,21,22,22,23,23,23,24,24,24,24,25,25,25,26,27,27,27,27,27,27,27,27,28,28,28,28,28,28,28],\"target\":[27,28,26,13,13,26,27,13,28,14,26,27,13,28,14,26,13,14,26,13,14,14,14,26,13,28,14,26,27,13,28,14,26,27,13,14,26,13,29,16,30,31,32,33,18,20,23,34,25,15,17,19,21,22,24,35,36,37,38,39,40,41,42,43,44,45,46,47,48,49,50,51,52,53,54,55,56,57,58,59,60,61,62,63,64,36,65,37,66,67,68,69,70,71,72,73,74,67,68,69,70,72,75,74],\"value\":[116642334.69228192,297410194.12487435,0.0,625496255.0016462,451820942.4185053,434346262.3373126,227069829.66952977,599499789.1293172,219780586.69384187,1529396785.9693918,58381114.091104984,5448984000.0,3429328263.45127,6816997000.0,7364916203.592999,30274.29381839984,23767110.69991335,397326657.55663127,123671419.80862153,169695926.6715299,319399043.9296227,5256897.795641311,4165294741.234378,91739898.72566178,55877115.29620939,376751033.69065857,13119064.527354792,111470615.82644628,3233539234.1597795,11894623363.139915,4412974949.494949,833113171.7210748,35319206.31275984,609944195.3949473,5699785623.066945,114442808.4,230544266.0,1192982982.5232892,196014909.6434906,8618378661.746635,299846974.9998968,708230644.1208967,115569655.62809917,826260008.6402779,1160603337.5954647,5841592730.954541,2304321918.007188,1127534481.729219,3781984391.0172625,3844867534.997494,1038711077.5954454,412769111.8137501,8271069643.558199,743397876.5258034,498245431.53653526,3844867534.997494,5438281779.332945,3180096882.4136868,74276845.54011938,798043587.1154345,166390644.93989146,188780282.4144887,113372681.28343658,295217078.46999687,166572123.06385306,396661172.363689,412769111.8137501,2170584442.561022,3226465523.201599,444542765.1919192,544035354.1168416,2091544426.3056262,30381660.81145586,5451015522.455637,73754398.93574706,80338280.93289469,114442808.4,628955068.1258035,1499871184.7323987,303595744.98248136,500854988.2923078,26523082.6598486,438233749.3611093,11418002.51557723,22070597.0,163772667.15777433,0.0,1041766219.5134571,1085503057.3957255,863493000.0,728606781.4508724,2121321840.5497153,463004000.0,116642334.69228192,653934000.0,231259000.0,668895106.4781673,203634000.0,1519223230.486685,4675695802.974332,202056000.0,411431000.0,146237776.85950413,1801081823.7604876]},\"node\":{\"color\":[\"rgba(166,17,111,0.35)\",\"rgba(35,253,29,0.35)\",\"rgba(72,74,70,0.35)\",\"rgba(226,122,207,0.35)\",\"rgba(170,155,183,0.35)\",\"rgba(43,81,121,0.35)\",\"rgba(51,213,134,0.35)\",\"rgba(21,253,7,0.35)\",\"rgba(170,155,134,0.35)\",\"rgba(224,228,130,0.35)\",\"rgba(230,56,41,0.35)\",\"rgba(43,226,35,0.35)\",\"rgba(214,201,167,0.35)\",\"rgba(16,112,167,0.35)\",\"rgba(134,194,249,0.35)\",\"rgba(218,228,93,0.35)\",\"rgba(227,22,19,0.35)\",\"rgba(95,57,67,0.35)\",\"rgba(44,138,237,0.35)\",\"rgba(142,116,242,0.35)\",\"rgba(230,88,178,0.35)\",\"rgba(150,11,116,0.35)\",\"rgba(68,42,24,0.35)\",\"rgba(183,143,45,0.35)\",\"rgba(245,177,239,0.35)\",\"rgba(126,219,119,0.35)\",\"rgba(91,247,249,0.35)\",\"rgba(153,52,83,0.35)\",\"rgba(35,188,76,0.35)\",\"rgba(196,134,73,0.35)\",\"rgba(224,18,139,0.35)\",\"rgba(35,198,192,0.35)\",\"rgba(63,229,86,0.35)\",\"rgba(167,200,65,0.35)\",\"rgba(47,92,225,0.35)\",\"rgba(61,198,202,0.35)\",\"rgba(70,19,214,0.35)\",\"rgba(151,161,97,0.35)\",\"rgba(100,247,54,0.35)\",\"rgba(195,157,64,0.35)\",\"rgba(17,138,88,0.35)\",\"rgba(226,18,251,0.35)\",\"rgba(55,138,174,0.35)\",\"rgba(115,33,156,0.35)\",\"rgba(251,39,217,0.35)\",\"rgba(126,134,136,0.35)\",\"rgba(171,162,229,0.35)\",\"rgba(118,205,87,0.35)\",\"rgba(193,202,98,0.35)\",\"rgba(155,20,189,0.35)\",\"rgba(120,176,95,0.35)\",\"rgba(121,234,9,0.35)\",\"rgba(94,142,232,0.35)\",\"rgba(98,237,179,0.35)\",\"rgba(171,213,242,0.35)\",\"rgba(140,10,91,0.35)\",\"rgba(177,38,229,0.35)\",\"rgba(6,253,53,0.35)\",\"rgba(95,211,40,0.35)\",\"rgba(159,71,12,0.35)\",\"rgba(245,141,23,0.35)\",\"rgba(166,168,58,0.35)\",\"rgba(125,94,46,0.35)\",\"rgba(234,73,77,0.35)\",\"rgba(69,215,35,0.35)\",\"rgba(71,115,218,0.35)\",\"rgba(90,118,170,0.35)\",\"rgba(33,80,211,0.35)\",\"rgba(127,94,106,0.35)\",\"rgba(32,53,225,0.35)\",\"rgba(29,148,16,0.35)\",\"rgba(136,39,102,0.35)\",\"rgba(128,40,42,0.35)\",\"rgba(188,227,21,0.35)\",\"rgba(71,41,176,0.35)\",\"rgba(208,169,30,0.35)\"],\"label\":[\"Biomass 0.7%\",\"Coal\",\"Coke\",\"Diesel\",\"Electricity\",\"Fuel Oil\",\"Gasoline\",\"Hydrogen\",\"Jet\",\"LPG\",\"Natural Gas\",\"Other Petroleum\",\"Other Renewables\",\"Industrial 39.1%\",\"Transportation 23.9%\",\"Aviation 9.7%\",\"Bulk Chemical Industry 21.7%\",\"Marine 2.6%\",\"Metal Based Durables Industry 2.9%\",\"Military 1.0%\",\"Nonmanufacturing Sector 14.7%\",\"On Road 20.8%\",\"Other 1.9%\",\"Other Manufacturing Industry 5.8%\",\"Rail 1.3%\",\"Refining Industry 9.5%\",\"Agriculture 1.8%\",\"Commercial 15.6%\",\"Residential 19.6%\",\"Aluminum Industry 0.5%\",\"Cement and Lime Industry 0.8%\",\"Food Industry 1.8%\",\"Glass Industry 0.3%\",\"Iron and Steel Industry 2.1%\",\"Paper Industry 2.8%\",\"Air Transportation 7.7%\",\"Feedstocks 11.2%\",\"Heat and Power 8.5%\",\"Domestic Shipping 0.1%\",\"International Shipping 1.6%\",\"Recreational Boats 0.3%\",\"Computers Consumption 0.4%\",\"Electrical Equipment Consumption 0.2%\",\"Fabricated Metal Products Consumption 0.6%\",\"Machinery Consumption 0.3%\",\"Transportation Equipment Consumption 0.8%\",\"Military Use 0.8%\",\"Construction 4.4%\",\"Mining 6.5%\",\"Natural Gas Liquefaction for Export 0.9%\",\"Commercial Light Trucks 1.1%\",\"Freight Trucks 4.2%\",\"Intercity Bus 0.1%\",\"Light-Duty Vehicle 10.9%\",\"School Bus 0.1%\",\"Transit Bus 0.2%\",\"Lubricants 0.2%\",\"Pipeline Fuel Natural Gas 1.3%\",\"Balance of Manufacturing Consumption 3.0%\",\"Plastics Consumption 0.6%\",\"Wood Products Consumption 1.0%\",\"Commuter Rail 0.1%\",\"Freight Rail 0.9%\",\"Intercity Rail 0.0%\",\"Transit Rail 0.0%\",\"Gas-to-Liquids Heat 0.0%\",\"On farm energy use 2.2%\",\"Computers and Electronics 2.1%\",\"Cooling 4.5%\",\"Heating 13.6%\",\"Lighting 1.3%\",\"Marketed Renewables 0.2%\",\"Refrigeration 2.1%\",\"Ventilation 0.5%\",\"Water Heating 5.0%\",\"Washing/Drying 0.3%\"],\"line\":{\"color\":\"black\",\"width\":0.5},\"pad\":15,\"thickness\":20,\"x\":[0.0,0.0,0.0,0.0,0.0,0.0,0.0,0.0,0.0,0.0,0.0,0.0,0.0,0.3333333333333333,0.3333333333333333,0.6666666666666666,0.6666666666666666,0.6666666666666666,0.6666666666666666,0.6666666666666666,0.6666666666666666,0.6666666666666666,0.6666666666666666,0.6666666666666666,0.6666666666666666,0.6666666666666666,0.3333333333333333,0.3333333333333333,0.3333333333333333,0.6666666666666666,0.6666666666666666,0.6666666666666666,0.6666666666666666,0.6666666666666666,0.6666666666666666,1.0,1.0,1.0,1.0,1.0,1.0,1.0,1.0,1.0,1.0,1.0,1.0,1.0,1.0,1.0,1.0,1.0,1.0,1.0,1.0,1.0,1.0,1.0,1.0,1.0,1.0,1.0,1.0,1.0,1.0,1.0,1.0,1.0,1.0,1.0,1.0,1.0,1.0,1.0,1.0,1.0],\"y\":[0.01,0.01,0.01,0.01,0.01,0.01,0.01,0.01,0.01,0.01,0.01,0.01,0.01,0.01,0.01,0.01,0.01,0.01,0.01,0.01,0.01,0.01,0.01,0.01,0.01,0.01,0.01,0.01,0.01,0.01,0.01,0.01,0.01,0.01,0.01,0.01,0.01,0.01,0.01,0.01,0.01,0.01,0.01,0.01,0.01,0.01,0.01,0.01,0.01,0.01,0.01,0.01,0.01,0.01,0.01,0.01,0.01,0.01,0.01,0.01,0.01,0.01,0.01,0.01,0.01,0.01,0.01,0.01,0.01,0.01,0.01,0.01,0.01,0.01,0.01,0.01]},\"type\":\"sankey\"}],                        {\"template\":{\"data\":{\"histogram2dcontour\":[{\"type\":\"histogram2dcontour\",\"colorbar\":{\"outlinewidth\":0,\"ticks\":\"\"},\"colorscale\":[[0.0,\"#0d0887\"],[0.1111111111111111,\"#46039f\"],[0.2222222222222222,\"#7201a8\"],[0.3333333333333333,\"#9c179e\"],[0.4444444444444444,\"#bd3786\"],[0.5555555555555556,\"#d8576b\"],[0.6666666666666666,\"#ed7953\"],[0.7777777777777778,\"#fb9f3a\"],[0.8888888888888888,\"#fdca26\"],[1.0,\"#f0f921\"]]}],\"choropleth\":[{\"type\":\"choropleth\",\"colorbar\":{\"outlinewidth\":0,\"ticks\":\"\"}}],\"histogram2d\":[{\"type\":\"histogram2d\",\"colorbar\":{\"outlinewidth\":0,\"ticks\":\"\"},\"colorscale\":[[0.0,\"#0d0887\"],[0.1111111111111111,\"#46039f\"],[0.2222222222222222,\"#7201a8\"],[0.3333333333333333,\"#9c179e\"],[0.4444444444444444,\"#bd3786\"],[0.5555555555555556,\"#d8576b\"],[0.6666666666666666,\"#ed7953\"],[0.7777777777777778,\"#fb9f3a\"],[0.8888888888888888,\"#fdca26\"],[1.0,\"#f0f921\"]]}],\"heatmap\":[{\"type\":\"heatmap\",\"colorbar\":{\"outlinewidth\":0,\"ticks\":\"\"},\"colorscale\":[[0.0,\"#0d0887\"],[0.1111111111111111,\"#46039f\"],[0.2222222222222222,\"#7201a8\"],[0.3333333333333333,\"#9c179e\"],[0.4444444444444444,\"#bd3786\"],[0.5555555555555556,\"#d8576b\"],[0.6666666666666666,\"#ed7953\"],[0.7777777777777778,\"#fb9f3a\"],[0.8888888888888888,\"#fdca26\"],[1.0,\"#f0f921\"]]}],\"heatmapgl\":[{\"type\":\"heatmapgl\",\"colorbar\":{\"outlinewidth\":0,\"ticks\":\"\"},\"colorscale\":[[0.0,\"#0d0887\"],[0.1111111111111111,\"#46039f\"],[0.2222222222222222,\"#7201a8\"],[0.3333333333333333,\"#9c179e\"],[0.4444444444444444,\"#bd3786\"],[0.5555555555555556,\"#d8576b\"],[0.6666666666666666,\"#ed7953\"],[0.7777777777777778,\"#fb9f3a\"],[0.8888888888888888,\"#fdca26\"],[1.0,\"#f0f921\"]]}],\"contourcarpet\":[{\"type\":\"contourcarpet\",\"colorbar\":{\"outlinewidth\":0,\"ticks\":\"\"}}],\"contour\":[{\"type\":\"contour\",\"colorbar\":{\"outlinewidth\":0,\"ticks\":\"\"},\"colorscale\":[[0.0,\"#0d0887\"],[0.1111111111111111,\"#46039f\"],[0.2222222222222222,\"#7201a8\"],[0.3333333333333333,\"#9c179e\"],[0.4444444444444444,\"#bd3786\"],[0.5555555555555556,\"#d8576b\"],[0.6666666666666666,\"#ed7953\"],[0.7777777777777778,\"#fb9f3a\"],[0.8888888888888888,\"#fdca26\"],[1.0,\"#f0f921\"]]}],\"surface\":[{\"type\":\"surface\",\"colorbar\":{\"outlinewidth\":0,\"ticks\":\"\"},\"colorscale\":[[0.0,\"#0d0887\"],[0.1111111111111111,\"#46039f\"],[0.2222222222222222,\"#7201a8\"],[0.3333333333333333,\"#9c179e\"],[0.4444444444444444,\"#bd3786\"],[0.5555555555555556,\"#d8576b\"],[0.6666666666666666,\"#ed7953\"],[0.7777777777777778,\"#fb9f3a\"],[0.8888888888888888,\"#fdca26\"],[1.0,\"#f0f921\"]]}],\"mesh3d\":[{\"type\":\"mesh3d\",\"colorbar\":{\"outlinewidth\":0,\"ticks\":\"\"}}],\"scatter\":[{\"fillpattern\":{\"fillmode\":\"overlay\",\"size\":10,\"solidity\":0.2},\"type\":\"scatter\"}],\"parcoords\":[{\"type\":\"parcoords\",\"line\":{\"colorbar\":{\"outlinewidth\":0,\"ticks\":\"\"}}}],\"scatterpolargl\":[{\"type\":\"scatterpolargl\",\"marker\":{\"colorbar\":{\"outlinewidth\":0,\"ticks\":\"\"}}}],\"bar\":[{\"error_x\":{\"color\":\"#2a3f5f\"},\"error_y\":{\"color\":\"#2a3f5f\"},\"marker\":{\"line\":{\"color\":\"#E5ECF6\",\"width\":0.5},\"pattern\":{\"fillmode\":\"overlay\",\"size\":10,\"solidity\":0.2}},\"type\":\"bar\"}],\"scattergeo\":[{\"type\":\"scattergeo\",\"marker\":{\"colorbar\":{\"outlinewidth\":0,\"ticks\":\"\"}}}],\"scatterpolar\":[{\"type\":\"scatterpolar\",\"marker\":{\"colorbar\":{\"outlinewidth\":0,\"ticks\":\"\"}}}],\"histogram\":[{\"marker\":{\"pattern\":{\"fillmode\":\"overlay\",\"size\":10,\"solidity\":0.2}},\"type\":\"histogram\"}],\"scattergl\":[{\"type\":\"scattergl\",\"marker\":{\"colorbar\":{\"outlinewidth\":0,\"ticks\":\"\"}}}],\"scatter3d\":[{\"type\":\"scatter3d\",\"line\":{\"colorbar\":{\"outlinewidth\":0,\"ticks\":\"\"}},\"marker\":{\"colorbar\":{\"outlinewidth\":0,\"ticks\":\"\"}}}],\"scattermapbox\":[{\"type\":\"scattermapbox\",\"marker\":{\"colorbar\":{\"outlinewidth\":0,\"ticks\":\"\"}}}],\"scatterternary\":[{\"type\":\"scatterternary\",\"marker\":{\"colorbar\":{\"outlinewidth\":0,\"ticks\":\"\"}}}],\"scattercarpet\":[{\"type\":\"scattercarpet\",\"marker\":{\"colorbar\":{\"outlinewidth\":0,\"ticks\":\"\"}}}],\"carpet\":[{\"aaxis\":{\"endlinecolor\":\"#2a3f5f\",\"gridcolor\":\"white\",\"linecolor\":\"white\",\"minorgridcolor\":\"white\",\"startlinecolor\":\"#2a3f5f\"},\"baxis\":{\"endlinecolor\":\"#2a3f5f\",\"gridcolor\":\"white\",\"linecolor\":\"white\",\"minorgridcolor\":\"white\",\"startlinecolor\":\"#2a3f5f\"},\"type\":\"carpet\"}],\"table\":[{\"cells\":{\"fill\":{\"color\":\"#EBF0F8\"},\"line\":{\"color\":\"white\"}},\"header\":{\"fill\":{\"color\":\"#C8D4E3\"},\"line\":{\"color\":\"white\"}},\"type\":\"table\"}],\"barpolar\":[{\"marker\":{\"line\":{\"color\":\"#E5ECF6\",\"width\":0.5},\"pattern\":{\"fillmode\":\"overlay\",\"size\":10,\"solidity\":0.2}},\"type\":\"barpolar\"}],\"pie\":[{\"automargin\":true,\"type\":\"pie\"}]},\"layout\":{\"autotypenumbers\":\"strict\",\"colorway\":[\"#636efa\",\"#EF553B\",\"#00cc96\",\"#ab63fa\",\"#FFA15A\",\"#19d3f3\",\"#FF6692\",\"#B6E880\",\"#FF97FF\",\"#FECB52\"],\"font\":{\"color\":\"#2a3f5f\"},\"hovermode\":\"closest\",\"hoverlabel\":{\"align\":\"left\"},\"paper_bgcolor\":\"white\",\"plot_bgcolor\":\"#E5ECF6\",\"polar\":{\"bgcolor\":\"#E5ECF6\",\"angularaxis\":{\"gridcolor\":\"white\",\"linecolor\":\"white\",\"ticks\":\"\"},\"radialaxis\":{\"gridcolor\":\"white\",\"linecolor\":\"white\",\"ticks\":\"\"}},\"ternary\":{\"bgcolor\":\"#E5ECF6\",\"aaxis\":{\"gridcolor\":\"white\",\"linecolor\":\"white\",\"ticks\":\"\"},\"baxis\":{\"gridcolor\":\"white\",\"linecolor\":\"white\",\"ticks\":\"\"},\"caxis\":{\"gridcolor\":\"white\",\"linecolor\":\"white\",\"ticks\":\"\"}},\"coloraxis\":{\"colorbar\":{\"outlinewidth\":0,\"ticks\":\"\"}},\"colorscale\":{\"sequential\":[[0.0,\"#0d0887\"],[0.1111111111111111,\"#46039f\"],[0.2222222222222222,\"#7201a8\"],[0.3333333333333333,\"#9c179e\"],[0.4444444444444444,\"#bd3786\"],[0.5555555555555556,\"#d8576b\"],[0.6666666666666666,\"#ed7953\"],[0.7777777777777778,\"#fb9f3a\"],[0.8888888888888888,\"#fdca26\"],[1.0,\"#f0f921\"]],\"sequentialminus\":[[0.0,\"#0d0887\"],[0.1111111111111111,\"#46039f\"],[0.2222222222222222,\"#7201a8\"],[0.3333333333333333,\"#9c179e\"],[0.4444444444444444,\"#bd3786\"],[0.5555555555555556,\"#d8576b\"],[0.6666666666666666,\"#ed7953\"],[0.7777777777777778,\"#fb9f3a\"],[0.8888888888888888,\"#fdca26\"],[1.0,\"#f0f921\"]],\"diverging\":[[0,\"#8e0152\"],[0.1,\"#c51b7d\"],[0.2,\"#de77ae\"],[0.3,\"#f1b6da\"],[0.4,\"#fde0ef\"],[0.5,\"#f7f7f7\"],[0.6,\"#e6f5d0\"],[0.7,\"#b8e186\"],[0.8,\"#7fbc41\"],[0.9,\"#4d9221\"],[1,\"#276419\"]]},\"xaxis\":{\"gridcolor\":\"white\",\"linecolor\":\"white\",\"ticks\":\"\",\"title\":{\"standoff\":15},\"zerolinecolor\":\"white\",\"automargin\":true,\"zerolinewidth\":2},\"yaxis\":{\"gridcolor\":\"white\",\"linecolor\":\"white\",\"ticks\":\"\",\"title\":{\"standoff\":15},\"zerolinecolor\":\"white\",\"automargin\":true,\"zerolinewidth\":2},\"scene\":{\"xaxis\":{\"backgroundcolor\":\"#E5ECF6\",\"gridcolor\":\"white\",\"linecolor\":\"white\",\"showbackground\":true,\"ticks\":\"\",\"zerolinecolor\":\"white\",\"gridwidth\":2},\"yaxis\":{\"backgroundcolor\":\"#E5ECF6\",\"gridcolor\":\"white\",\"linecolor\":\"white\",\"showbackground\":true,\"ticks\":\"\",\"zerolinecolor\":\"white\",\"gridwidth\":2},\"zaxis\":{\"backgroundcolor\":\"#E5ECF6\",\"gridcolor\":\"white\",\"linecolor\":\"white\",\"showbackground\":true,\"ticks\":\"\",\"zerolinecolor\":\"white\",\"gridwidth\":2}},\"shapedefaults\":{\"line\":{\"color\":\"#2a3f5f\"}},\"annotationdefaults\":{\"arrowcolor\":\"#2a3f5f\",\"arrowhead\":0,\"arrowwidth\":1},\"geo\":{\"bgcolor\":\"white\",\"landcolor\":\"#E5ECF6\",\"subunitcolor\":\"white\",\"showland\":true,\"showlakes\":true,\"lakecolor\":\"white\"},\"title\":{\"x\":0.05},\"mapbox\":{\"style\":\"light\"}}},\"title\":{\"text\":\"2050 : Fuel Pool |  Sector |  Subsector |  End Use Application\"},\"font\":{\"size\":8},\"width\":1118,\"height\":1000},                        {\"responsive\": true}                    ).then(function(){\n",
       "                            \n",
       "var gd = document.getElementById('a1f115b0-8629-477c-8320-2043bc2482e8');\n",
       "var x = new MutationObserver(function (mutations, observer) {{\n",
       "        var display = window.getComputedStyle(gd).display;\n",
       "        if (!display || display === 'none') {{\n",
       "            console.log([gd, 'removed!']);\n",
       "            Plotly.purge(gd);\n",
       "            observer.disconnect();\n",
       "        }}\n",
       "}});\n",
       "\n",
       "// Listen for the removal of the full notebook cells\n",
       "var notebookContainer = gd.closest('#notebook-container');\n",
       "if (notebookContainer) {{\n",
       "    x.observe(notebookContainer, {childList: true});\n",
       "}}\n",
       "\n",
       "// Listen for the clearing of the current output cell\n",
       "var outputEl = gd.closest('.output');\n",
       "if (outputEl) {{\n",
       "    x.observe(outputEl, {childList: true});\n",
       "}}\n",
       "\n",
       "                        })                };                });            </script>        </div>"
      ]
     },
     "metadata": {},
     "output_type": "display_data"
    }
   ],
   "source": [
    "Facet_1 = 'Fuel Pool'\n",
    "Facet_2 = 'Sector'\n",
    "Facet_3 = 'Subsector'\n",
    "Facet_4 = 'End Use Application'\n",
    "\n",
    "facets = [Facet_1, Facet_2, Facet_3, Facet_4]\n",
    "create_sankey(facets, 2050, True)"
   ]
  },
  {
   "cell_type": "code",
   "execution_count": null,
   "id": "64d08cbe",
   "metadata": {},
   "outputs": [],
   "source": []
  }
 ],
 "metadata": {
  "kernelspec": {
   "display_name": "Python 3 (ipykernel)",
   "language": "python",
   "name": "python3"
  },
  "language_info": {
   "codemirror_mode": {
    "name": "ipython",
    "version": 3
   },
   "file_extension": ".py",
   "mimetype": "text/x-python",
   "name": "python",
   "nbconvert_exporter": "python",
   "pygments_lexer": "ipython3",
   "version": "3.10.9"
  }
 },
 "nbformat": 4,
 "nbformat_minor": 5
}
